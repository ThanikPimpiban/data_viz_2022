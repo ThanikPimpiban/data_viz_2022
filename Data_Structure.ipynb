{
  "nbformat": 4,
  "nbformat_minor": 0,
  "metadata": {
    "colab": {
      "name": "Data_Structure.ipynb",
      "provenance": [],
      "authorship_tag": "ABX9TyOiLiiRWJvSDWMKb5cTF5k0",
      "include_colab_link": true
    },
    "kernelspec": {
      "name": "python3",
      "display_name": "Python 3"
    },
    "language_info": {
      "name": "python"
    }
  },
  "cells": [
    {
      "cell_type": "markdown",
      "metadata": {
        "id": "view-in-github",
        "colab_type": "text"
      },
      "source": [
        "<a href=\"https://colab.research.google.com/github/ThanikPimpiban/data_viz_2022/blob/main/Data_Structure.ipynb\" target=\"_parent\"><img src=\"https://colab.research.google.com/assets/colab-badge.svg\" alt=\"Open In Colab\"/></a>"
      ]
    },
    {
      "cell_type": "markdown",
      "source": [
        "**Data Structure(โครงสร้างข้อมูล)**\n",
        "\n",
        "การเก็บข้อมูลหลายๆตัวไว้ด้วยกันอย่างเป็นระเบียบ"
      ],
      "metadata": {
        "id": "3Ilqwjyp2RY6"
      }
    },
    {
      "cell_type": "markdown",
      "source": [
        "list()\n",
        "\n",
        "* เก็บอะไรก็ได้\n",
        "* ลำดับในการเก็บ มีความสำคัญ"
      ],
      "metadata": {
        "id": "dMF2yu3O2te4"
      }
    },
    {
      "cell_type": "code",
      "execution_count": 337,
      "metadata": {
        "id": "PtSmOxBa2PTf"
      },
      "outputs": [],
      "source": [
        "list_a = [1,2,3,4,5,6]  #[ ] square brackets"
      ]
    },
    {
      "cell_type": "code",
      "source": [
        "list_a #ดู list "
      ],
      "metadata": {
        "colab": {
          "base_uri": "https://localhost:8080/"
        },
        "id": "TpGSz5eC3Dx6",
        "outputId": "a27901f4-f9d1-4378-e0fa-f45076daf852"
      },
      "execution_count": 338,
      "outputs": [
        {
          "output_type": "execute_result",
          "data": {
            "text/plain": [
              "[1, 2, 3, 4, 5, 6]"
            ]
          },
          "metadata": {},
          "execution_count": 338
        }
      ]
    },
    {
      "cell_type": "code",
      "source": [
        "list_b = ['ab',2,3.14,list_a] #สร้าง list"
      ],
      "metadata": {
        "id": "qTSJpzB43DvB"
      },
      "execution_count": 339,
      "outputs": []
    },
    {
      "cell_type": "code",
      "source": [
        "list_b #ดู list "
      ],
      "metadata": {
        "colab": {
          "base_uri": "https://localhost:8080/"
        },
        "id": "vW7jDp823Dsh",
        "outputId": "a4499882-7f42-4722-fa1c-e438d1e945d4"
      },
      "execution_count": 340,
      "outputs": [
        {
          "output_type": "execute_result",
          "data": {
            "text/plain": [
              "['ab', 2, 3.14, [1, 2, 3, 4, 5, 6]]"
            ]
          },
          "metadata": {},
          "execution_count": 340
        }
      ]
    },
    {
      "cell_type": "markdown",
      "source": [
        "**indexing การชี้สมาชิกใน list ด้วย เลขลำดับของ list**"
      ],
      "metadata": {
        "id": "2b9WFUKm3L_N"
      }
    },
    {
      "cell_type": "code",
      "source": [
        "list_a[3] # list ตัวที่ 4"
      ],
      "metadata": {
        "colab": {
          "base_uri": "https://localhost:8080/"
        },
        "id": "wFcd5xo93DqJ",
        "outputId": "e112abb3-9af0-46a7-fb32-61a39e00e093"
      },
      "execution_count": 341,
      "outputs": [
        {
          "output_type": "execute_result",
          "data": {
            "text/plain": [
              "4"
            ]
          },
          "metadata": {},
          "execution_count": 341
        }
      ]
    },
    {
      "cell_type": "code",
      "source": [
        "list_b[3]  # list ตัวที่ 4"
      ],
      "metadata": {
        "colab": {
          "base_uri": "https://localhost:8080/"
        },
        "id": "LPAIWGxx3Dn9",
        "outputId": "477b823c-4569-4a70-aed7-b57a0b917560"
      },
      "execution_count": 342,
      "outputs": [
        {
          "output_type": "execute_result",
          "data": {
            "text/plain": [
              "[1, 2, 3, 4, 5, 6]"
            ]
          },
          "metadata": {},
          "execution_count": 342
        }
      ]
    },
    {
      "cell_type": "code",
      "source": [
        "list_b[3][4]"
      ],
      "metadata": {
        "colab": {
          "base_uri": "https://localhost:8080/"
        },
        "id": "DHCmsajM3Dl6",
        "outputId": "1f567f4b-6a90-4fed-c48c-745494972b25"
      },
      "execution_count": 343,
      "outputs": [
        {
          "output_type": "execute_result",
          "data": {
            "text/plain": [
              "5"
            ]
          },
          "metadata": {},
          "execution_count": 343
        }
      ]
    },
    {
      "cell_type": "code",
      "source": [
        "#list_a[6]"
      ],
      "metadata": {
        "id": "VAIwcrgT3Di5"
      },
      "execution_count": 344,
      "outputs": []
    },
    {
      "cell_type": "code",
      "source": [
        "list_a[-1] #index -1 คือตัวสุดท้ายของ list"
      ],
      "metadata": {
        "colab": {
          "base_uri": "https://localhost:8080/"
        },
        "id": "JzfEGXEl3Dgh",
        "outputId": "edc12e66-0dbc-4753-bd73-606847b7e9f5"
      },
      "execution_count": 345,
      "outputs": [
        {
          "output_type": "execute_result",
          "data": {
            "text/plain": [
              "6"
            ]
          },
          "metadata": {},
          "execution_count": 345
        }
      ]
    },
    {
      "cell_type": "code",
      "source": [
        "list_a[-4]"
      ],
      "metadata": {
        "colab": {
          "base_uri": "https://localhost:8080/"
        },
        "id": "ZIpxPuv23Day",
        "outputId": "aa988d1a-a7d0-4414-d24e-a7404b98dd1d"
      },
      "execution_count": 346,
      "outputs": [
        {
          "output_type": "execute_result",
          "data": {
            "text/plain": [
              "3"
            ]
          },
          "metadata": {},
          "execution_count": 346
        }
      ]
    },
    {
      "cell_type": "markdown",
      "source": [
        "**การสร้าง list()**"
      ],
      "metadata": {
        "id": "rP1bXj_13Z7O"
      }
    },
    {
      "cell_type": "code",
      "source": [
        "list_x1 = [] #แบบที่ 1\n",
        "list_x2 = list() #แบบที่ 2"
      ],
      "metadata": {
        "id": "Pne5uyPO3DYq"
      },
      "execution_count": 347,
      "outputs": []
    },
    {
      "cell_type": "code",
      "source": [
        "print(list_x1)\n",
        "print(list_x2)"
      ],
      "metadata": {
        "colab": {
          "base_uri": "https://localhost:8080/"
        },
        "id": "ysz6V4ha3DWh",
        "outputId": "fcc5777f-87bc-4845-a8c0-6ad063edffe5"
      },
      "execution_count": 348,
      "outputs": [
        {
          "output_type": "stream",
          "name": "stdout",
          "text": [
            "[]\n",
            "[]\n"
          ]
        }
      ]
    },
    {
      "cell_type": "markdown",
      "source": [
        "**เพิ่มสมาชิกเข้าไปใน list ด้วย append()**"
      ],
      "metadata": {
        "id": "F-VTRgzr3dJ6"
      }
    },
    {
      "cell_type": "code",
      "source": [
        "list_x1.append(2) #เพิ่ม list"
      ],
      "metadata": {
        "id": "5LK0cxk63fCW"
      },
      "execution_count": 349,
      "outputs": []
    },
    {
      "cell_type": "code",
      "source": [
        "list_x1"
      ],
      "metadata": {
        "colab": {
          "base_uri": "https://localhost:8080/"
        },
        "id": "80Wp4vix3fAL",
        "outputId": "9de4195c-3cf5-4a3c-a0ee-e45ce450964a"
      },
      "execution_count": 350,
      "outputs": [
        {
          "output_type": "execute_result",
          "data": {
            "text/plain": [
              "[2]"
            ]
          },
          "metadata": {},
          "execution_count": 350
        }
      ]
    },
    {
      "cell_type": "code",
      "source": [
        "list_x1.append(4)\n",
        "print(list_x1)"
      ],
      "metadata": {
        "colab": {
          "base_uri": "https://localhost:8080/"
        },
        "id": "e_9l3yd-3e-b",
        "outputId": "507e421c-edcf-4067-ae3b-3f792790c91d"
      },
      "execution_count": 351,
      "outputs": [
        {
          "output_type": "stream",
          "name": "stdout",
          "text": [
            "[2, 4]\n"
          ]
        }
      ]
    },
    {
      "cell_type": "code",
      "source": [
        "list_x1[0]"
      ],
      "metadata": {
        "colab": {
          "base_uri": "https://localhost:8080/"
        },
        "id": "TFebSzz13e8F",
        "outputId": "e1db4340-8cd4-4d6c-a059-8231b29f004e"
      },
      "execution_count": 352,
      "outputs": [
        {
          "output_type": "execute_result",
          "data": {
            "text/plain": [
              "2"
            ]
          },
          "metadata": {},
          "execution_count": 352
        }
      ]
    },
    {
      "cell_type": "code",
      "source": [
        "list_x1[-1]"
      ],
      "metadata": {
        "colab": {
          "base_uri": "https://localhost:8080/"
        },
        "id": "wRNc9CV73e5k",
        "outputId": "95dcdec3-8ff1-4c8b-fae1-072c6acd844b"
      },
      "execution_count": 353,
      "outputs": [
        {
          "output_type": "execute_result",
          "data": {
            "text/plain": [
              "4"
            ]
          },
          "metadata": {},
          "execution_count": 353
        }
      ]
    },
    {
      "cell_type": "code",
      "source": [
        "list_x2"
      ],
      "metadata": {
        "colab": {
          "base_uri": "https://localhost:8080/"
        },
        "id": "x9jRr79i3e3T",
        "outputId": "24623dbc-4f65-4301-d2d5-9cc85fcf717e"
      },
      "execution_count": 354,
      "outputs": [
        {
          "output_type": "execute_result",
          "data": {
            "text/plain": [
              "[]"
            ]
          },
          "metadata": {},
          "execution_count": 354
        }
      ]
    },
    {
      "cell_type": "code",
      "source": [
        "list_x2.append('ha')"
      ],
      "metadata": {
        "id": "QAcMRe703e1F"
      },
      "execution_count": 355,
      "outputs": []
    },
    {
      "cell_type": "code",
      "source": [
        "list_x2"
      ],
      "metadata": {
        "colab": {
          "base_uri": "https://localhost:8080/"
        },
        "id": "BQ-C_1RI3j4e",
        "outputId": "fce74aa8-f85c-40f1-9360-559b72401942"
      },
      "execution_count": 356,
      "outputs": [
        {
          "output_type": "execute_result",
          "data": {
            "text/plain": [
              "['ha']"
            ]
          },
          "metadata": {},
          "execution_count": 356
        }
      ]
    },
    {
      "cell_type": "markdown",
      "source": [
        "**ลบสมาชิกจาก list**"
      ],
      "metadata": {
        "id": "QkDryQs33lMr"
      }
    },
    {
      "cell_type": "code",
      "source": [
        "list_x1.append('ha')"
      ],
      "metadata": {
        "id": "awy4KEA33j2e"
      },
      "execution_count": 357,
      "outputs": []
    },
    {
      "cell_type": "code",
      "source": [
        "list_x1"
      ],
      "metadata": {
        "colab": {
          "base_uri": "https://localhost:8080/"
        },
        "id": "5NeEe5CJ3j0g",
        "outputId": "fe92c298-0e04-40ad-f716-c6b9889939b1"
      },
      "execution_count": 358,
      "outputs": [
        {
          "output_type": "execute_result",
          "data": {
            "text/plain": [
              "[2, 4, 'ha']"
            ]
          },
          "metadata": {},
          "execution_count": 358
        }
      ]
    },
    {
      "cell_type": "code",
      "source": [
        "list_x1.pop()"
      ],
      "metadata": {
        "colab": {
          "base_uri": "https://localhost:8080/",
          "height": 34
        },
        "id": "FNNB8rL13jye",
        "outputId": "ccde5e42-579f-4b43-89dc-6b41d289e92f"
      },
      "execution_count": 359,
      "outputs": [
        {
          "output_type": "execute_result",
          "data": {
            "application/vnd.google.colaboratory.intrinsic+json": {
              "type": "string"
            },
            "text/plain": [
              "'ha'"
            ]
          },
          "metadata": {},
          "execution_count": 359
        }
      ]
    },
    {
      "cell_type": "code",
      "source": [
        "list_x1"
      ],
      "metadata": {
        "colab": {
          "base_uri": "https://localhost:8080/"
        },
        "id": "Ok_Vdvme3jwG",
        "outputId": "3da6a5f9-53af-421f-917f-8b666432126d"
      },
      "execution_count": 360,
      "outputs": [
        {
          "output_type": "execute_result",
          "data": {
            "text/plain": [
              "[2, 4]"
            ]
          },
          "metadata": {},
          "execution_count": 360
        }
      ]
    },
    {
      "cell_type": "code",
      "source": [
        "list_x1.pop()\n",
        "print(list_x1)"
      ],
      "metadata": {
        "colab": {
          "base_uri": "https://localhost:8080/"
        },
        "id": "FMS3KJUz3jt1",
        "outputId": "647718b8-ed47-457f-dd6b-2934f3ef2dbb"
      },
      "execution_count": 361,
      "outputs": [
        {
          "output_type": "stream",
          "name": "stdout",
          "text": [
            "[2]\n"
          ]
        }
      ]
    },
    {
      "cell_type": "markdown",
      "source": [
        "**len() ตรวจสอบจำนวนสมาชิกของ list**"
      ],
      "metadata": {
        "id": "vfZaSa563qBQ"
      }
    },
    {
      "cell_type": "code",
      "source": [
        "print(list_b)\n",
        "print(len(list_b))"
      ],
      "metadata": {
        "colab": {
          "base_uri": "https://localhost:8080/"
        },
        "id": "EjGG3bC13rq5",
        "outputId": "8367d6d5-6abf-4e5f-c848-bc3ef8ee1892"
      },
      "execution_count": 362,
      "outputs": [
        {
          "output_type": "stream",
          "name": "stdout",
          "text": [
            "['ab', 2, 3.14, [1, 2, 3, 4, 5, 6]]\n",
            "4\n"
          ]
        }
      ]
    },
    {
      "cell_type": "code",
      "source": [
        "len(list_a) #ตรวจจำนวน list"
      ],
      "metadata": {
        "colab": {
          "base_uri": "https://localhost:8080/"
        },
        "id": "-0fUUPA93ro6",
        "outputId": "4c7526bb-e4ba-4657-9859-ff22b5c6570b"
      },
      "execution_count": 363,
      "outputs": [
        {
          "output_type": "execute_result",
          "data": {
            "text/plain": [
              "6"
            ]
          },
          "metadata": {},
          "execution_count": 363
        }
      ]
    },
    {
      "cell_type": "markdown",
      "source": [
        "**String is a list of characters**"
      ],
      "metadata": {
        "id": "Q87jRXvs3u6M"
      }
    },
    {
      "cell_type": "code",
      "source": [
        "st_stat = 'Department of Statistics, Faculty of Science'"
      ],
      "metadata": {
        "id": "HjhAsV343rmh"
      },
      "execution_count": 364,
      "outputs": []
    },
    {
      "cell_type": "code",
      "source": [
        "st_stat[10]"
      ],
      "metadata": {
        "colab": {
          "base_uri": "https://localhost:8080/",
          "height": 34
        },
        "id": "2WUzSxiM3rkJ",
        "outputId": "5f5289d4-6490-4ad9-f4ef-af8d4248ab2c"
      },
      "execution_count": 365,
      "outputs": [
        {
          "output_type": "execute_result",
          "data": {
            "application/vnd.google.colaboratory.intrinsic+json": {
              "type": "string"
            },
            "text/plain": [
              "' '"
            ]
          },
          "metadata": {},
          "execution_count": 365
        }
      ]
    },
    {
      "cell_type": "code",
      "source": [
        "len(st_stat) #ตรวจจำนวนตัวอักษร"
      ],
      "metadata": {
        "colab": {
          "base_uri": "https://localhost:8080/"
        },
        "id": "DpLdhsqO3DT5",
        "outputId": "847924d7-e00d-4e98-bb51-17e20ef3bb7e"
      },
      "execution_count": 366,
      "outputs": [
        {
          "output_type": "execute_result",
          "data": {
            "text/plain": [
              "44"
            ]
          },
          "metadata": {},
          "execution_count": 366
        }
      ]
    },
    {
      "cell_type": "markdown",
      "source": [
        "**List Slicing :**\n",
        "\n",
        "list[จุดเริ่มต้น (ทึบ):จุดสุดท้าย (โปร่ง)]\n",
        "\n",
        "list[จุดเริ่มต้น (ทึบ):จุดสุดท้าย (โปร่ง):step]"
      ],
      "metadata": {
        "id": "JzMIB8br3xJb"
      }
    },
    {
      "cell_type": "code",
      "source": [
        "list_a"
      ],
      "metadata": {
        "colab": {
          "base_uri": "https://localhost:8080/"
        },
        "id": "zTfPePGk3DRp",
        "outputId": "d63b5f1a-fa19-4cac-a5bc-0611192e3855"
      },
      "execution_count": 367,
      "outputs": [
        {
          "output_type": "execute_result",
          "data": {
            "text/plain": [
              "[1, 2, 3, 4, 5, 6]"
            ]
          },
          "metadata": {},
          "execution_count": 367
        }
      ]
    },
    {
      "cell_type": "code",
      "source": [
        "list_a[2]"
      ],
      "metadata": {
        "colab": {
          "base_uri": "https://localhost:8080/"
        },
        "id": "XKKJaNt_34t3",
        "outputId": "886ab6c8-cd54-4676-9ed3-c0565ecbfc3d"
      },
      "execution_count": 368,
      "outputs": [
        {
          "output_type": "execute_result",
          "data": {
            "text/plain": [
              "3"
            ]
          },
          "metadata": {},
          "execution_count": 368
        }
      ]
    },
    {
      "cell_type": "markdown",
      "source": [
        "**: colon**"
      ],
      "metadata": {
        "id": "lbw4iwIN3524"
      }
    },
    {
      "cell_type": "code",
      "source": [
        "list_a[-3:]"
      ],
      "metadata": {
        "colab": {
          "base_uri": "https://localhost:8080/"
        },
        "id": "NxixkaTA34qH",
        "outputId": "f3f3e55d-e66c-47a5-e67d-359002d1c3d5"
      },
      "execution_count": 369,
      "outputs": [
        {
          "output_type": "execute_result",
          "data": {
            "text/plain": [
              "[4, 5, 6]"
            ]
          },
          "metadata": {},
          "execution_count": 369
        }
      ]
    },
    {
      "cell_type": "code",
      "source": [
        "list_a[:4]"
      ],
      "metadata": {
        "colab": {
          "base_uri": "https://localhost:8080/"
        },
        "id": "q0KPdsME34oX",
        "outputId": "7d6fdba3-4ff9-492c-d554-87070b5536c3"
      },
      "execution_count": 370,
      "outputs": [
        {
          "output_type": "execute_result",
          "data": {
            "text/plain": [
              "[1, 2, 3, 4]"
            ]
          },
          "metadata": {},
          "execution_count": 370
        }
      ]
    },
    {
      "cell_type": "code",
      "source": [
        "list_a[1:4]"
      ],
      "metadata": {
        "colab": {
          "base_uri": "https://localhost:8080/"
        },
        "id": "CqSuU-f334lv",
        "outputId": "2db19033-4ef4-4ef5-f4c2-61be9a80aadd"
      },
      "execution_count": 371,
      "outputs": [
        {
          "output_type": "execute_result",
          "data": {
            "text/plain": [
              "[2, 3, 4]"
            ]
          },
          "metadata": {},
          "execution_count": 371
        }
      ]
    },
    {
      "cell_type": "code",
      "source": [
        "list_a[:]"
      ],
      "metadata": {
        "colab": {
          "base_uri": "https://localhost:8080/"
        },
        "id": "FWg37mzc34jv",
        "outputId": "9fe54900-1a83-4fdb-a2a1-b178efe8e595"
      },
      "execution_count": 372,
      "outputs": [
        {
          "output_type": "execute_result",
          "data": {
            "text/plain": [
              "[1, 2, 3, 4, 5, 6]"
            ]
          },
          "metadata": {},
          "execution_count": 372
        }
      ]
    },
    {
      "cell_type": "markdown",
      "source": [
        "**step**"
      ],
      "metadata": {
        "id": "KxrYIrIF39zj"
      }
    },
    {
      "cell_type": "code",
      "source": [
        "list_c = [1,2,3,4,5,6,7,8,9,10,11,12,13]"
      ],
      "metadata": {
        "id": "O4NPRkJb4And"
      },
      "execution_count": 373,
      "outputs": []
    },
    {
      "cell_type": "code",
      "source": [
        "list_c[:10:]"
      ],
      "metadata": {
        "colab": {
          "base_uri": "https://localhost:8080/"
        },
        "id": "RWbALKCK4Ai1",
        "outputId": "0806feb1-da3a-4b58-8b57-0cd868a8020a"
      },
      "execution_count": 374,
      "outputs": [
        {
          "output_type": "execute_result",
          "data": {
            "text/plain": [
              "[1, 2, 3, 4, 5, 6, 7, 8, 9, 10]"
            ]
          },
          "metadata": {},
          "execution_count": 374
        }
      ]
    },
    {
      "cell_type": "code",
      "source": [
        "list_c[:10:2]"
      ],
      "metadata": {
        "colab": {
          "base_uri": "https://localhost:8080/"
        },
        "id": "fJAItVlX4Agd",
        "outputId": "9ddb185f-028b-4e26-b42d-8d27551eb5e6"
      },
      "execution_count": 375,
      "outputs": [
        {
          "output_type": "execute_result",
          "data": {
            "text/plain": [
              "[1, 3, 5, 7, 9]"
            ]
          },
          "metadata": {},
          "execution_count": 375
        }
      ]
    },
    {
      "cell_type": "code",
      "source": [
        "list_c[::-1]"
      ],
      "metadata": {
        "colab": {
          "base_uri": "https://localhost:8080/"
        },
        "id": "8ZKNIh104AeV",
        "outputId": "8597bed2-b57f-4127-f414-52f557a09001"
      },
      "execution_count": 376,
      "outputs": [
        {
          "output_type": "execute_result",
          "data": {
            "text/plain": [
              "[13, 12, 11, 10, 9, 8, 7, 6, 5, 4, 3, 2, 1]"
            ]
          },
          "metadata": {},
          "execution_count": 376
        }
      ]
    },
    {
      "cell_type": "markdown",
      "source": [
        "**range()**"
      ],
      "metadata": {
        "id": "ZK58VzUZ4DYA"
      }
    },
    {
      "cell_type": "code",
      "source": [
        "range(21)"
      ],
      "metadata": {
        "colab": {
          "base_uri": "https://localhost:8080/"
        },
        "id": "JPy6Nu-Z4Ab1",
        "outputId": "dbabea07-cdfc-440c-ed82-6839ee049dfa"
      },
      "execution_count": 377,
      "outputs": [
        {
          "output_type": "execute_result",
          "data": {
            "text/plain": [
              "range(0, 21)"
            ]
          },
          "metadata": {},
          "execution_count": 377
        }
      ]
    },
    {
      "cell_type": "code",
      "source": [
        "a = list(range(21))"
      ],
      "metadata": {
        "id": "5gILm6LM4AZd"
      },
      "execution_count": 378,
      "outputs": []
    },
    {
      "cell_type": "code",
      "source": [
        "a"
      ],
      "metadata": {
        "colab": {
          "base_uri": "https://localhost:8080/"
        },
        "id": "udwvfGom3-mm",
        "outputId": "e59d0503-5401-4ca7-97dd-b1e4db64548a"
      },
      "execution_count": 379,
      "outputs": [
        {
          "output_type": "execute_result",
          "data": {
            "text/plain": [
              "[0, 1, 2, 3, 4, 5, 6, 7, 8, 9, 10, 11, 12, 13, 14, 15, 16, 17, 18, 19, 20]"
            ]
          },
          "metadata": {},
          "execution_count": 379
        }
      ]
    },
    {
      "cell_type": "code",
      "source": [
        "list(range(1,21))"
      ],
      "metadata": {
        "colab": {
          "base_uri": "https://localhost:8080/"
        },
        "id": "jwPIPQPR4GUS",
        "outputId": "8f75a2cb-32c4-45e9-aa41-cd50acdf5e16"
      },
      "execution_count": 380,
      "outputs": [
        {
          "output_type": "execute_result",
          "data": {
            "text/plain": [
              "[1, 2, 3, 4, 5, 6, 7, 8, 9, 10, 11, 12, 13, 14, 15, 16, 17, 18, 19, 20]"
            ]
          },
          "metadata": {},
          "execution_count": 380
        }
      ]
    },
    {
      "cell_type": "markdown",
      "source": [
        "HW2 คำนวณเวลาเป็นวินาทีของเวลาต่อไปนี้โดยใช้คำสั่ง split() ช่วย (print ออกมาให้สวยงาม)\n",
        "\n",
        "* 12:30:15\n",
        "* 13:41:07\n",
        "* 09:11:50\n",
        "* 21:30:15\n",
        "* 03:10:15"
      ],
      "metadata": {
        "id": "BcHBXzqF4H7z"
      }
    },
    {
      "cell_type": "code",
      "source": [
        "T = ['12:30:15','13:41:07','09:11:50','21:30:15','03:10:15']"
      ],
      "metadata": {
        "id": "DQ2c7gec8cxK"
      },
      "execution_count": 381,
      "outputs": []
    },
    {
      "cell_type": "code",
      "source": [
        "for i in range(5) :\n",
        "    HW = T[i].split(':')\n",
        "    a = (int(HW[0])*60*60) + (int(HW[1])*60) + int(HW[2])\n",
        "    print(f'{T[i]} คำนวณเป็นวินาทีได้ {a} วินาที')"
      ],
      "metadata": {
        "colab": {
          "base_uri": "https://localhost:8080/"
        },
        "id": "bs2e9OhR_skh",
        "outputId": "b54be9fd-ca86-4daf-a259-e11912cb36e6"
      },
      "execution_count": 382,
      "outputs": [
        {
          "output_type": "stream",
          "name": "stdout",
          "text": [
            "12:30:15 คำนวณเป็นวินาทีได้ 45015 วินาที\n",
            "13:41:07 คำนวณเป็นวินาทีได้ 49267 วินาที\n",
            "09:11:50 คำนวณเป็นวินาทีได้ 33110 วินาที\n",
            "21:30:15 คำนวณเป็นวินาทีได้ 77415 วินาที\n",
            "03:10:15 คำนวณเป็นวินาทีได้ 11415 วินาที\n"
          ]
        }
      ]
    },
    {
      "cell_type": "markdown",
      "source": [
        "**Dictionary**\n",
        "\n",
        "* คล้าย list()\n",
        "* index เป็นอะไรก็ได้ไม่จำเป็นต้องเป็นตัวเลขลำดับ"
      ],
      "metadata": {
        "id": "xgMsdJsPO0qg"
      }
    },
    {
      "cell_type": "code",
      "source": [
        "dict_a = {1:'Happy','N':'New','2022':'Year'}  # Curly brackets"
      ],
      "metadata": {
        "id": "GouKSBD1P8Z0"
      },
      "execution_count": 383,
      "outputs": []
    },
    {
      "cell_type": "code",
      "source": [
        "dict_a['N']"
      ],
      "metadata": {
        "id": "AzmYOgfJQSSn",
        "outputId": "93d0efa3-7b11-4064-b68c-cc2ac675a362",
        "colab": {
          "base_uri": "https://localhost:8080/",
          "height": 34
        }
      },
      "execution_count": 384,
      "outputs": [
        {
          "output_type": "execute_result",
          "data": {
            "application/vnd.google.colaboratory.intrinsic+json": {
              "type": "string"
            },
            "text/plain": [
              "'New'"
            ]
          },
          "metadata": {},
          "execution_count": 384
        }
      ]
    },
    {
      "cell_type": "code",
      "source": [
        "dict_a.keys()"
      ],
      "metadata": {
        "id": "QBZMiIQAQgU6",
        "outputId": "efdc3573-6129-44b7-8150-614a66696fd6",
        "colab": {
          "base_uri": "https://localhost:8080/"
        }
      },
      "execution_count": 385,
      "outputs": [
        {
          "output_type": "execute_result",
          "data": {
            "text/plain": [
              "dict_keys([1, 'N', '2022'])"
            ]
          },
          "metadata": {},
          "execution_count": 385
        }
      ]
    },
    {
      "cell_type": "code",
      "source": [
        "dict_a.values()"
      ],
      "metadata": {
        "id": "ACee91HpQ1fo",
        "outputId": "ee6ab4fc-7373-4a18-e29f-75b5de5ff4c9",
        "colab": {
          "base_uri": "https://localhost:8080/"
        }
      },
      "execution_count": 386,
      "outputs": [
        {
          "output_type": "execute_result",
          "data": {
            "text/plain": [
              "dict_values(['Happy', 'New', 'Year'])"
            ]
          },
          "metadata": {},
          "execution_count": 386
        }
      ]
    },
    {
      "cell_type": "markdown",
      "source": [
        "## การเพิ่มสมาชิกลงไปใน dictionary"
      ],
      "metadata": {
        "id": "sjv3eoC9Q6D4"
      }
    },
    {
      "cell_type": "code",
      "source": [
        "dict_a[7]= 3.14"
      ],
      "metadata": {
        "id": "l93nVzdVQ5Mb"
      },
      "execution_count": 387,
      "outputs": []
    },
    {
      "cell_type": "code",
      "source": [
        "dict_a"
      ],
      "metadata": {
        "id": "Afw0H8_ARWyV",
        "outputId": "b13e6d39-922e-42b7-eb7a-245fbe4c3edf",
        "colab": {
          "base_uri": "https://localhost:8080/"
        }
      },
      "execution_count": 388,
      "outputs": [
        {
          "output_type": "execute_result",
          "data": {
            "text/plain": [
              "{1: 'Happy', '2022': 'Year', 7: 3.14, 'N': 'New'}"
            ]
          },
          "metadata": {},
          "execution_count": 388
        }
      ]
    },
    {
      "cell_type": "code",
      "source": [
        "dict_a['N'] = 'NNNNEEEEWWWW' ##ใช้ key ซ้ำ จะถูก update ใหม่"
      ],
      "metadata": {
        "id": "KnKM7lHsRa6p"
      },
      "execution_count": 389,
      "outputs": []
    },
    {
      "cell_type": "code",
      "source": [
        "dict_a"
      ],
      "metadata": {
        "id": "FMjeCGaCRyAq",
        "outputId": "20beae11-8f01-4d49-a337-96f6319b0223",
        "colab": {
          "base_uri": "https://localhost:8080/"
        }
      },
      "execution_count": 390,
      "outputs": [
        {
          "output_type": "execute_result",
          "data": {
            "text/plain": [
              "{1: 'Happy', '2022': 'Year', 7: 3.14, 'N': 'NNNNEEEEWWWW'}"
            ]
          },
          "metadata": {},
          "execution_count": 390
        }
      ]
    },
    {
      "cell_type": "markdown",
      "source": [
        "**Numpy Array**\n",
        "\n",
        "* เก็บได้แค่ตัวเลข\n",
        "* อ้างอิงโดยใช้ พิกัด (2มิติ มองเป็น Martrix)"
      ],
      "metadata": {
        "id": "Tp0QBYyjO5O8"
      }
    },
    {
      "cell_type": "code",
      "source": [
        "import numpy as np"
      ],
      "metadata": {
        "id": "Bpivp-SbVHhv"
      },
      "execution_count": 391,
      "outputs": []
    },
    {
      "cell_type": "code",
      "source": [
        "arr_a = np.array([1,2,3,4,5])"
      ],
      "metadata": {
        "id": "k_elIZPNVfeD"
      },
      "execution_count": 392,
      "outputs": []
    },
    {
      "cell_type": "code",
      "source": [
        "arr_a "
      ],
      "metadata": {
        "id": "lXXJ0izSVl-3",
        "outputId": "d0a008ef-7871-4d39-9c30-14765b256198",
        "colab": {
          "base_uri": "https://localhost:8080/"
        }
      },
      "execution_count": 393,
      "outputs": [
        {
          "output_type": "execute_result",
          "data": {
            "text/plain": [
              "array([1, 2, 3, 4, 5])"
            ]
          },
          "metadata": {},
          "execution_count": 393
        }
      ]
    },
    {
      "cell_type": "code",
      "source": [
        "arr_a[1]"
      ],
      "metadata": {
        "id": "h3B6c2VDVnUP",
        "outputId": "34c4f718-9f71-40db-89ef-c45ca5b4b8b6",
        "colab": {
          "base_uri": "https://localhost:8080/"
        }
      },
      "execution_count": 394,
      "outputs": [
        {
          "output_type": "execute_result",
          "data": {
            "text/plain": [
              "2"
            ]
          },
          "metadata": {},
          "execution_count": 394
        }
      ]
    },
    {
      "cell_type": "code",
      "source": [
        "5* arr_a ## Matrix Scalar Multiple"
      ],
      "metadata": {
        "id": "_RY3zWS6WI7o",
        "outputId": "7eec3077-5f9c-4e72-ead5-aa705f4fc6c5",
        "colab": {
          "base_uri": "https://localhost:8080/"
        }
      },
      "execution_count": 395,
      "outputs": [
        {
          "output_type": "execute_result",
          "data": {
            "text/plain": [
              "array([ 5, 10, 15, 20, 25])"
            ]
          },
          "metadata": {},
          "execution_count": 395
        }
      ]
    },
    {
      "cell_type": "code",
      "source": [
        "list_A = [1,2,3,4,5]"
      ],
      "metadata": {
        "id": "z7kEJHK8WrUi"
      },
      "execution_count": 396,
      "outputs": []
    },
    {
      "cell_type": "code",
      "source": [
        "5*list_A"
      ],
      "metadata": {
        "id": "bUAprFfDWoVA",
        "outputId": "9fdd1ba7-5ba9-4e9c-ba20-32d7682bb3f5",
        "colab": {
          "base_uri": "https://localhost:8080/"
        }
      },
      "execution_count": 397,
      "outputs": [
        {
          "output_type": "execute_result",
          "data": {
            "text/plain": [
              "[1, 2, 3, 4, 5, 1, 2, 3, 4, 5, 1, 2, 3, 4, 5, 1, 2, 3, 4, 5, 1, 2, 3, 4, 5]"
            ]
          },
          "metadata": {},
          "execution_count": 397
        }
      ]
    },
    {
      "cell_type": "code",
      "source": [
        "arr_b = np.array([10,20,30,40,50])"
      ],
      "metadata": {
        "id": "8A6rhR7BXRsk"
      },
      "execution_count": 398,
      "outputs": []
    },
    {
      "cell_type": "code",
      "source": [
        "arr_a + arr_b"
      ],
      "metadata": {
        "id": "jRjHSGPMX1_G",
        "outputId": "268fd527-3ea8-4672-a1d8-ed1ca554324e",
        "colab": {
          "base_uri": "https://localhost:8080/"
        }
      },
      "execution_count": 399,
      "outputs": [
        {
          "output_type": "execute_result",
          "data": {
            "text/plain": [
              "array([11, 22, 33, 44, 55])"
            ]
          },
          "metadata": {},
          "execution_count": 399
        }
      ]
    },
    {
      "cell_type": "markdown",
      "source": [
        "**2D Array**"
      ],
      "metadata": {
        "id": "-tafRCWIYKWR"
      }
    },
    {
      "cell_type": "code",
      "source": [
        "import numpy as np"
      ],
      "metadata": {
        "id": "riZT6lf2leRx"
      },
      "execution_count": 400,
      "outputs": []
    },
    {
      "cell_type": "code",
      "source": [
        "arr2_z = np.array([[1,2,3],[4,5,6]])"
      ],
      "metadata": {
        "id": "nTBjkzZqlfOJ"
      },
      "execution_count": 401,
      "outputs": []
    },
    {
      "cell_type": "code",
      "source": [
        "arr2_z"
      ],
      "metadata": {
        "id": "lP8_vpKAlfrp",
        "outputId": "9fbc0859-259d-42cf-8431-d4155e2f5254",
        "colab": {
          "base_uri": "https://localhost:8080/"
        }
      },
      "execution_count": 402,
      "outputs": [
        {
          "output_type": "execute_result",
          "data": {
            "text/plain": [
              "array([[1, 2, 3],\n",
              "       [4, 5, 6]])"
            ]
          },
          "metadata": {},
          "execution_count": 402
        }
      ]
    },
    {
      "cell_type": "code",
      "source": [
        "arr2_z.shape"
      ],
      "metadata": {
        "id": "1cZjWhDNlfpp",
        "outputId": "a699877f-27cc-4ed1-8776-e4d668b7e4b0",
        "colab": {
          "base_uri": "https://localhost:8080/"
        }
      },
      "execution_count": 403,
      "outputs": [
        {
          "output_type": "execute_result",
          "data": {
            "text/plain": [
              "(2, 3)"
            ]
          },
          "metadata": {},
          "execution_count": 403
        }
      ]
    },
    {
      "cell_type": "markdown",
      "source": [
        "**np.zeros()**"
      ],
      "metadata": {
        "id": "-0rrBayAlhvD"
      }
    },
    {
      "cell_type": "code",
      "source": [
        "arr2_3_5_0 = np.zeros((3,5))"
      ],
      "metadata": {
        "id": "tG44vON1lfnb"
      },
      "execution_count": 404,
      "outputs": []
    },
    {
      "cell_type": "code",
      "source": [
        "arr2_3_5_0"
      ],
      "metadata": {
        "id": "0vffZtJnlkEX",
        "outputId": "ce545883-4419-4e24-ca9f-bd245500c6ee",
        "colab": {
          "base_uri": "https://localhost:8080/"
        }
      },
      "execution_count": 405,
      "outputs": [
        {
          "output_type": "execute_result",
          "data": {
            "text/plain": [
              "array([[0., 0., 0., 0., 0.],\n",
              "       [0., 0., 0., 0., 0.],\n",
              "       [0., 0., 0., 0., 0.]])"
            ]
          },
          "metadata": {},
          "execution_count": 405
        }
      ]
    },
    {
      "cell_type": "code",
      "source": [
        "arr2_3_5_0[1,2] = 9 "
      ],
      "metadata": {
        "id": "33SH3QwplkBP"
      },
      "execution_count": 406,
      "outputs": []
    },
    {
      "cell_type": "code",
      "source": [
        "arr2_3_5_0"
      ],
      "metadata": {
        "id": "54TcXnxhlj-8",
        "outputId": "26dd01c2-e7c2-4adf-cd9a-74d78746c451",
        "colab": {
          "base_uri": "https://localhost:8080/"
        }
      },
      "execution_count": 407,
      "outputs": [
        {
          "output_type": "execute_result",
          "data": {
            "text/plain": [
              "array([[0., 0., 0., 0., 0.],\n",
              "       [0., 0., 9., 0., 0.],\n",
              "       [0., 0., 0., 0., 0.]])"
            ]
          },
          "metadata": {},
          "execution_count": 407
        }
      ]
    },
    {
      "cell_type": "code",
      "source": [
        "arr2_3_5_0[1,2]"
      ],
      "metadata": {
        "id": "ZuLroDTElnaw",
        "outputId": "0cb767d0-3de4-49c9-f8a3-808ea38d6206",
        "colab": {
          "base_uri": "https://localhost:8080/"
        }
      },
      "execution_count": 408,
      "outputs": [
        {
          "output_type": "execute_result",
          "data": {
            "text/plain": [
              "9.0"
            ]
          },
          "metadata": {},
          "execution_count": 408
        }
      ]
    },
    {
      "cell_type": "code",
      "source": [
        "print(list_A) # เปลี่ยนค่าใน list()\n",
        "list_A[-1] = 'Christmas'\n",
        "print(list_A)"
      ],
      "metadata": {
        "id": "9OG0gWRTlnYt",
        "outputId": "52da6703-d31f-4c50-fc59-717d2a31b9e3",
        "colab": {
          "base_uri": "https://localhost:8080/"
        }
      },
      "execution_count": 409,
      "outputs": [
        {
          "output_type": "stream",
          "name": "stdout",
          "text": [
            "[1, 2, 3, 4, 5]\n",
            "[1, 2, 3, 4, 'Christmas']\n"
          ]
        }
      ]
    },
    {
      "cell_type": "markdown",
      "source": [
        "**np.ones()**"
      ],
      "metadata": {
        "id": "vCpeeVrjlp-D"
      }
    },
    {
      "cell_type": "code",
      "source": [
        "arr2_4_5_1 = np.ones((4,5))"
      ],
      "metadata": {
        "id": "HkHAmbQJlnWY"
      },
      "execution_count": 410,
      "outputs": []
    },
    {
      "cell_type": "code",
      "source": [
        "arr2_4_5_1"
      ],
      "metadata": {
        "id": "9i0eEc74lnTh",
        "outputId": "8d63c945-ac98-402b-a77a-6ba938c4a503",
        "colab": {
          "base_uri": "https://localhost:8080/"
        }
      },
      "execution_count": 411,
      "outputs": [
        {
          "output_type": "execute_result",
          "data": {
            "text/plain": [
              "array([[1., 1., 1., 1., 1.],\n",
              "       [1., 1., 1., 1., 1.],\n",
              "       [1., 1., 1., 1., 1.],\n",
              "       [1., 1., 1., 1., 1.]])"
            ]
          },
          "metadata": {},
          "execution_count": 411
        }
      ]
    },
    {
      "cell_type": "code",
      "source": [
        "arr2_4_5_200 = 200*np.ones((4,5))"
      ],
      "metadata": {
        "id": "zSOqj2Uhlt7e"
      },
      "execution_count": 412,
      "outputs": []
    },
    {
      "cell_type": "code",
      "source": [
        "arr2_4_5_200"
      ],
      "metadata": {
        "id": "q65ynT7dlt1o",
        "outputId": "c742f6c0-033e-4332-d567-9f308061f781",
        "colab": {
          "base_uri": "https://localhost:8080/"
        }
      },
      "execution_count": 413,
      "outputs": [
        {
          "output_type": "execute_result",
          "data": {
            "text/plain": [
              "array([[200., 200., 200., 200., 200.],\n",
              "       [200., 200., 200., 200., 200.],\n",
              "       [200., 200., 200., 200., 200.],\n",
              "       [200., 200., 200., 200., 200.]])"
            ]
          },
          "metadata": {},
          "execution_count": 413
        }
      ]
    },
    {
      "cell_type": "markdown",
      "source": [
        "**Matrix operations**\n",
        "\n",
        "* การบวก ลบ matrix  บวกลบตัวที่อยู่ตำแหน่งเดียวกัน\n"
      ],
      "metadata": {
        "id": "OQagQiTalxXY"
      }
    },
    {
      "cell_type": "code",
      "source": [
        "### การบวก ลบ matrix shape ต้องเท่ากัน\n",
        "\n",
        "#arr2_4_5_200 + arr2_3_5_0"
      ],
      "metadata": {
        "id": "TbRpVHVAl3Ps"
      },
      "execution_count": 414,
      "outputs": []
    },
    {
      "cell_type": "code",
      "source": [
        "arr2_4_5_200 + arr2_4_5_1"
      ],
      "metadata": {
        "id": "P3yJNTwnl-ZS",
        "outputId": "b377d6bc-2213-4afa-9749-b5db025a93f5",
        "colab": {
          "base_uri": "https://localhost:8080/"
        }
      },
      "execution_count": 415,
      "outputs": [
        {
          "output_type": "execute_result",
          "data": {
            "text/plain": [
              "array([[201., 201., 201., 201., 201.],\n",
              "       [201., 201., 201., 201., 201.],\n",
              "       [201., 201., 201., 201., 201.],\n",
              "       [201., 201., 201., 201., 201.]])"
            ]
          },
          "metadata": {},
          "execution_count": 415
        }
      ]
    },
    {
      "cell_type": "markdown",
      "source": [
        "**การคูณ matrix**\n",
        "\n",
        "*  scalar คูณ Matrix (scalar คูณกระจายเข้าไปทุกตัวของ Matrix)\n",
        "* Matrix คูณ Matrix (แถวคูณหลัก)"
      ],
      "metadata": {
        "id": "j_Uv3-vrl_aH"
      }
    },
    {
      "cell_type": "code",
      "source": [
        "5 * arr_a"
      ],
      "metadata": {
        "id": "3PXAbxAMmHWg",
        "outputId": "64c0761e-612a-4f98-d119-9526a311c9a7",
        "colab": {
          "base_uri": "https://localhost:8080/"
        }
      },
      "execution_count": 416,
      "outputs": [
        {
          "output_type": "execute_result",
          "data": {
            "text/plain": [
              "array([ 5, 10, 15, 20, 25])"
            ]
          },
          "metadata": {},
          "execution_count": 416
        }
      ]
    },
    {
      "cell_type": "code",
      "source": [
        "mat_a = np.array([[2,3,5],[4,6,7]])\n",
        "mat_b = np.array([[1,2,5],[2,4,-7]])\n",
        "mat_c = np.array([[2,3],[4,6],[7,9]])"
      ],
      "metadata": {
        "id": "mqFbIrkimJth"
      },
      "execution_count": 417,
      "outputs": []
    },
    {
      "cell_type": "code",
      "source": [
        "mat_a"
      ],
      "metadata": {
        "id": "y8jtPbmBmJrc",
        "outputId": "a54cb769-3a66-4e40-935a-d254cd8e5cd9",
        "colab": {
          "base_uri": "https://localhost:8080/"
        }
      },
      "execution_count": 418,
      "outputs": [
        {
          "output_type": "execute_result",
          "data": {
            "text/plain": [
              "array([[2, 3, 5],\n",
              "       [4, 6, 7]])"
            ]
          },
          "metadata": {},
          "execution_count": 418
        }
      ]
    },
    {
      "cell_type": "code",
      "source": [
        "mat_b"
      ],
      "metadata": {
        "id": "K-wB0uPDmJpO",
        "outputId": "a952b9fd-3fbf-49f3-a67c-969a120d4495",
        "colab": {
          "base_uri": "https://localhost:8080/"
        }
      },
      "execution_count": 419,
      "outputs": [
        {
          "output_type": "execute_result",
          "data": {
            "text/plain": [
              "array([[ 1,  2,  5],\n",
              "       [ 2,  4, -7]])"
            ]
          },
          "metadata": {},
          "execution_count": 419
        }
      ]
    },
    {
      "cell_type": "code",
      "source": [
        "mat_c"
      ],
      "metadata": {
        "id": "WKyydfbkmJnB",
        "outputId": "d13fc396-97bd-4309-b22d-0c48c16219ea",
        "colab": {
          "base_uri": "https://localhost:8080/"
        }
      },
      "execution_count": 420,
      "outputs": [
        {
          "output_type": "execute_result",
          "data": {
            "text/plain": [
              "array([[2, 3],\n",
              "       [4, 6],\n",
              "       [7, 9]])"
            ]
          },
          "metadata": {},
          "execution_count": 420
        }
      ]
    },
    {
      "cell_type": "code",
      "source": [
        "np.dot(mat_a,mat_c)"
      ],
      "metadata": {
        "id": "X-D_pfBsmJk4",
        "outputId": "339075e0-903c-43fa-de0c-b925dbfac76a",
        "colab": {
          "base_uri": "https://localhost:8080/"
        }
      },
      "execution_count": 421,
      "outputs": [
        {
          "output_type": "execute_result",
          "data": {
            "text/plain": [
              "array([[ 51,  69],\n",
              "       [ 81, 111]])"
            ]
          },
          "metadata": {},
          "execution_count": 421
        }
      ]
    },
    {
      "cell_type": "code",
      "source": [
        "np.dot(mat_b,mat_c)"
      ],
      "metadata": {
        "id": "KBt_cHq5mJio",
        "outputId": "546affdb-ba77-4eda-e82a-5cf238e2c545",
        "colab": {
          "base_uri": "https://localhost:8080/"
        }
      },
      "execution_count": 422,
      "outputs": [
        {
          "output_type": "execute_result",
          "data": {
            "text/plain": [
              "array([[ 45,  60],\n",
              "       [-29, -33]])"
            ]
          },
          "metadata": {},
          "execution_count": 422
        }
      ]
    },
    {
      "cell_type": "code",
      "source": [
        "np.dot(mat_c,mat_a)"
      ],
      "metadata": {
        "id": "3bnAJ-wrmHUP",
        "outputId": "3bf54a4c-ab34-4fc6-8208-30f34f37f6de",
        "colab": {
          "base_uri": "https://localhost:8080/"
        }
      },
      "execution_count": 423,
      "outputs": [
        {
          "output_type": "execute_result",
          "data": {
            "text/plain": [
              "array([[16, 24, 31],\n",
              "       [32, 48, 62],\n",
              "       [50, 75, 98]])"
            ]
          },
          "metadata": {},
          "execution_count": 423
        }
      ]
    },
    {
      "cell_type": "code",
      "source": [
        "mat_X = np.dot(mat_c,mat_b)\n",
        "print(mat_X)"
      ],
      "metadata": {
        "id": "f15kn22ZmOJ7",
        "outputId": "d98f2611-6db6-4059-ccd4-f5322cea8321",
        "colab": {
          "base_uri": "https://localhost:8080/"
        }
      },
      "execution_count": 424,
      "outputs": [
        {
          "output_type": "stream",
          "name": "stdout",
          "text": [
            "[[  8  16 -11]\n",
            " [ 16  32 -22]\n",
            " [ 25  50 -28]]\n"
          ]
        }
      ]
    },
    {
      "cell_type": "code",
      "source": [
        "mat_a * mat_b"
      ],
      "metadata": {
        "id": "wNPrrEKqmO39",
        "outputId": "7ff3d6e7-d6b8-46b9-ecc3-9a7b56a09143",
        "colab": {
          "base_uri": "https://localhost:8080/"
        }
      },
      "execution_count": 425,
      "outputs": [
        {
          "output_type": "execute_result",
          "data": {
            "text/plain": [
              "array([[  2,   6,  25],\n",
              "       [  8,  24, -49]])"
            ]
          },
          "metadata": {},
          "execution_count": 425
        }
      ]
    },
    {
      "cell_type": "markdown",
      "source": [
        "**Matrix Slicing**"
      ],
      "metadata": {
        "id": "NbBqIqewmTcw"
      }
    },
    {
      "cell_type": "code",
      "source": [
        "mat_X[:2,:2]"
      ],
      "metadata": {
        "id": "m3RD_lpNmO1r",
        "outputId": "3fc7346f-e4c7-402e-e7e2-e49acdc3ab5e",
        "colab": {
          "base_uri": "https://localhost:8080/"
        }
      },
      "execution_count": 426,
      "outputs": [
        {
          "output_type": "execute_result",
          "data": {
            "text/plain": [
              "array([[ 8, 16],\n",
              "       [16, 32]])"
            ]
          },
          "metadata": {},
          "execution_count": 426
        }
      ]
    },
    {
      "cell_type": "markdown",
      "source": [
        "**HW 3**\n",
        "\n",
        "* สร้าง array ที่เป็นรูป ต้น Christmas\n",
        "\n",
        "* slice เลข 1 ออกมาจาก array HW3 ด้วยการ slice แค่ครั้งเดียว"
      ],
      "metadata": {
        "id": "c5Jpi1KkmWHf"
      }
    },
    {
      "cell_type": "code",
      "source": [
        "### สร้างต้น Christmas\n",
        "\n",
        "T = np.zeros((10,10))\n",
        "T[::1,5] = 777\n",
        "T[1:2,4:7] = 777\n",
        "T[2:3,2:8] = 777\n",
        "T[3:4,1:9] = 777\n",
        "T[4:5,2:8] = 777\n",
        "T[5:6,1:9] =777\n",
        "T[6:7,0:10] = 777\n",
        "T[7:8,4:7] =99\n",
        "T[8:9,4:7] = 99\n",
        "T[9:10,4:7] = 99\n",
        "print(T)"
      ],
      "metadata": {
        "id": "9d4kNduxmOuz",
        "outputId": "c96e9759-c25a-4081-aaa0-6249275858fb",
        "colab": {
          "base_uri": "https://localhost:8080/"
        }
      },
      "execution_count": 427,
      "outputs": [
        {
          "output_type": "stream",
          "name": "stdout",
          "text": [
            "[[  0.   0.   0.   0.   0. 777.   0.   0.   0.   0.]\n",
            " [  0.   0.   0.   0. 777. 777. 777.   0.   0.   0.]\n",
            " [  0.   0. 777. 777. 777. 777. 777. 777.   0.   0.]\n",
            " [  0. 777. 777. 777. 777. 777. 777. 777. 777.   0.]\n",
            " [  0.   0. 777. 777. 777. 777. 777. 777.   0.   0.]\n",
            " [  0. 777. 777. 777. 777. 777. 777. 777. 777.   0.]\n",
            " [777. 777. 777. 777. 777. 777. 777. 777. 777. 777.]\n",
            " [  0.   0.   0.   0.  99.  99.  99.   0.   0.   0.]\n",
            " [  0.   0.   0.   0.  99.  99.  99.   0.   0.   0.]\n",
            " [  0.   0.   0.   0.  99.  99.  99.   0.   0.   0.]]\n"
          ]
        }
      ]
    },
    {
      "cell_type": "code",
      "source": [
        "HW3 = np.zeros((10,10))\n",
        "HW3"
      ],
      "metadata": {
        "id": "vZzoFfGNwPXX",
        "outputId": "fb4f59d9-ac80-4eed-ed90-24d3dbe33c4a",
        "colab": {
          "base_uri": "https://localhost:8080/"
        }
      },
      "execution_count": 428,
      "outputs": [
        {
          "output_type": "execute_result",
          "data": {
            "text/plain": [
              "array([[0., 0., 0., 0., 0., 0., 0., 0., 0., 0.],\n",
              "       [0., 0., 0., 0., 0., 0., 0., 0., 0., 0.],\n",
              "       [0., 0., 0., 0., 0., 0., 0., 0., 0., 0.],\n",
              "       [0., 0., 0., 0., 0., 0., 0., 0., 0., 0.],\n",
              "       [0., 0., 0., 0., 0., 0., 0., 0., 0., 0.],\n",
              "       [0., 0., 0., 0., 0., 0., 0., 0., 0., 0.],\n",
              "       [0., 0., 0., 0., 0., 0., 0., 0., 0., 0.],\n",
              "       [0., 0., 0., 0., 0., 0., 0., 0., 0., 0.],\n",
              "       [0., 0., 0., 0., 0., 0., 0., 0., 0., 0.],\n",
              "       [0., 0., 0., 0., 0., 0., 0., 0., 0., 0.]])"
            ]
          },
          "metadata": {},
          "execution_count": 428
        }
      ]
    },
    {
      "cell_type": "code",
      "source": [
        "HW3[::4,2] = 1\n",
        "HW3[::4,4] = 1\n",
        "HW3[::4,6] = 1\n",
        "HW3[::4,8] = 1\n",
        "HW3"
      ],
      "metadata": {
        "id": "Q6tZZ_S0wQWQ",
        "outputId": "64308233-bb43-4a17-f001-e98f3e4c3521",
        "colab": {
          "base_uri": "https://localhost:8080/"
        }
      },
      "execution_count": 429,
      "outputs": [
        {
          "output_type": "execute_result",
          "data": {
            "text/plain": [
              "array([[0., 0., 1., 0., 1., 0., 1., 0., 1., 0.],\n",
              "       [0., 0., 0., 0., 0., 0., 0., 0., 0., 0.],\n",
              "       [0., 0., 0., 0., 0., 0., 0., 0., 0., 0.],\n",
              "       [0., 0., 0., 0., 0., 0., 0., 0., 0., 0.],\n",
              "       [0., 0., 1., 0., 1., 0., 1., 0., 1., 0.],\n",
              "       [0., 0., 0., 0., 0., 0., 0., 0., 0., 0.],\n",
              "       [0., 0., 0., 0., 0., 0., 0., 0., 0., 0.],\n",
              "       [0., 0., 0., 0., 0., 0., 0., 0., 0., 0.],\n",
              "       [0., 0., 1., 0., 1., 0., 1., 0., 1., 0.],\n",
              "       [0., 0., 0., 0., 0., 0., 0., 0., 0., 0.]])"
            ]
          },
          "metadata": {},
          "execution_count": 429
        }
      ]
    },
    {
      "cell_type": "code",
      "source": [
        "### slice เลข 1 \n",
        "HW3[::4,2::2]"
      ],
      "metadata": {
        "id": "3rIeJptxwSpC",
        "outputId": "05903aab-6175-48df-b3cb-6a9820edb6ea",
        "colab": {
          "base_uri": "https://localhost:8080/"
        }
      },
      "execution_count": 430,
      "outputs": [
        {
          "output_type": "execute_result",
          "data": {
            "text/plain": [
              "array([[1., 1., 1., 1.],\n",
              "       [1., 1., 1., 1.],\n",
              "       [1., 1., 1., 1.]])"
            ]
          },
          "metadata": {},
          "execution_count": 430
        }
      ]
    },
    {
      "cell_type": "markdown",
      "source": [
        "## Pandas Dataframe (แยกออกเป็น notebook เฉพาะ)"
      ],
      "metadata": {
        "id": "X7aWUbeMO98_"
      }
    },
    {
      "cell_type": "code",
      "source": [
        ""
      ],
      "metadata": {
        "id": "m_-3cD-lBdEa"
      },
      "execution_count": 430,
      "outputs": []
    }
  ]
}